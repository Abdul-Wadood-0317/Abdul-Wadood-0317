{
  "nbformat": 4,
  "nbformat_minor": 0,
  "metadata": {
    "colab": {
      "provenance": [],
      "authorship_tag": "ABX9TyOdkW8XECjIV33hE7E4sN92",
      "include_colab_link": true
    },
    "kernelspec": {
      "name": "python3",
      "display_name": "Python 3"
    },
    "language_info": {
      "name": "python"
    }
  },
  "cells": [
    {
      "cell_type": "markdown",
      "metadata": {
        "id": "view-in-github",
        "colab_type": "text"
      },
      "source": [
        "<a href=\"https://colab.research.google.com/github/Abdul-Wadood-0317/Abdul-Wadood-0317/blob/main/HTS_Assignment_02.ipynb\" target=\"_parent\"><img src=\"https://colab.research.google.com/assets/colab-badge.svg\" alt=\"Open In Colab\"/></a>"
      ]
    },
    {
      "cell_type": "code",
      "source": [
        "#1st Sub Task(Make List of 3-Fruits):\n",
        "fruit_name = [\"Pineapple\",\"Mango\",\"Grape\"]\n",
        "print(type(fruit_name))\n",
        "print(fruit_name)"
      ],
      "metadata": {
        "colab": {
          "base_uri": "https://localhost:8080/"
        },
        "id": "B57ak2DJ7ng0",
        "outputId": "8729c0ee-0fb7-4f66-f0d8-0223d7ca5fe9"
      },
      "execution_count": null,
      "outputs": [
        {
          "output_type": "stream",
          "name": "stdout",
          "text": [
            "<class 'list'>\n",
            "['Pineapple', 'Mango', 'Grape']\n"
          ]
        }
      ]
    },
    {
      "cell_type": "code",
      "source": [
        "#2nd Sub Task(Make Tuple of 5-Numbers):\n",
        "five_numbers = (2,5,6,9,3)\n",
        "print(type(five_numbers))\n",
        "print(five_numbers)"
      ],
      "metadata": {
        "colab": {
          "base_uri": "https://localhost:8080/"
        },
        "id": "1fIAkiipDU5i",
        "outputId": "2bc86273-366f-4233-8005-f91fbc2ee720"
      },
      "execution_count": null,
      "outputs": [
        {
          "output_type": "stream",
          "name": "stdout",
          "text": [
            "<class 'tuple'>\n",
            "(2, 5, 6, 9, 3)\n"
          ]
        }
      ]
    },
    {
      "cell_type": "code",
      "source": [
        "#3rd Sub Task(Make set of 3-Colors):\n",
        "colors_name = {\"Violet\",\"Indigo\",\"WhiteAsh\"}\n",
        "print(type(colors_name))\n",
        "print(colors_name)"
      ],
      "metadata": {
        "colab": {
          "base_uri": "https://localhost:8080/"
        },
        "id": "Zo1VgzWNEIxG",
        "outputId": "84316138-df0c-4539-a11b-628c66b38897"
      },
      "execution_count": null,
      "outputs": [
        {
          "output_type": "stream",
          "name": "stdout",
          "text": [
            "<class 'set'>\n",
            "{'Violet', 'Indigo', 'WhiteAsh'}\n"
          ]
        }
      ]
    },
    {
      "cell_type": "code",
      "source": [
        "#4th Sub Task(Make dictionary of student-info):\n",
        "student = {\"name\":\"Abdul-Wadood\",\"Age\":\"21\",\"Grade\":\"A++\"}\n",
        "print(type(student))\n",
        "print(student[\"name\"])\n",
        "print(student[\"Age\"])\n",
        "print(student[\"Grade\"])"
      ],
      "metadata": {
        "colab": {
          "base_uri": "https://localhost:8080/"
        },
        "id": "e3fRmgIYHL6Y",
        "outputId": "b0467640-26dc-4fbd-cbb0-06db018aa1e5"
      },
      "execution_count": null,
      "outputs": [
        {
          "output_type": "stream",
          "name": "stdout",
          "text": [
            "<class 'dict'>\n",
            "Abdul-Wadood\n",
            "21\n",
            "A++\n"
          ]
        }
      ]
    },
    {
      "cell_type": "code",
      "source": [
        "#5th Sub Task(Write a poem with the help of Multi line string):\n",
        "poem = \"\"\"Twinkle twinkle little star.\n",
        "How I wonder what you are.\n",
        "Up above the world so high.\n",
        "Like a diamond in the sky.\n",
        "Twinkle twinkle little star.\n",
        "How I wonder what you are. \"\"\"\n",
        "print(type(poem))\n",
        "print(poem)"
      ],
      "metadata": {
        "colab": {
          "base_uri": "https://localhost:8080/"
        },
        "id": "C69GQM7CIU3z",
        "outputId": "89d84dcf-74e9-489f-b058-083407b4722c"
      },
      "execution_count": null,
      "outputs": [
        {
          "output_type": "stream",
          "name": "stdout",
          "text": [
            "<class 'str'>\n",
            "Twinkle twinkle little star.\n",
            "How I wonder what you are.\n",
            "Up above the world so high.\n",
            "Like a diamond in the sky.\n",
            "Twinkle twinkle little star.\n",
            "How I wonder what you are. \n"
          ]
        }
      ]
    },
    {
      "cell_type": "code",
      "source": [
        "fruit = [\"apple\",\"canva\",\"banana\",\"kela\"]\n",
        "print(len(fruit))\n",
        "print(type(fruit))\n",
        "\n",
        "if len(fruit)>3:\n",
        "  print(\"you have many fruit\")\n"
      ],
      "metadata": {
        "colab": {
          "base_uri": "https://localhost:8080/"
        },
        "id": "ljSPYLQzLTgK",
        "outputId": "dbd2afb5-47e4-4936-c9be-5d3a4624cc93"
      },
      "execution_count": null,
      "outputs": [
        {
          "output_type": "stream",
          "name": "stdout",
          "text": [
            "4\n",
            "<class 'list'>\n",
            "you have many fruit\n"
          ]
        }
      ]
    },
    {
      "cell_type": "code",
      "source": [
        "question = ('What did you eat at lunch?\\n')\n",
        "answer = ['Biryani']\n",
        "prize = 100\n",
        "if input(question) in answer:\n",
        "  print(\"Right,have some desert\")\n",
        "else:\n",
        "  print(\"Wrong,cut off\")"
      ],
      "metadata": {
        "id": "cF_w-QaPgEDm",
        "colab": {
          "base_uri": "https://localhost:8080/"
        },
        "outputId": "c95a631c-f75e-4351-ec1f-95a126b82bc7"
      },
      "execution_count": null,
      "outputs": [
        {
          "output_type": "stream",
          "name": "stdout",
          "text": [
            "What did you eat at lunch?\n",
            "Biryani\n",
            "Right,have some desert\n"
          ]
        }
      ]
    },
    {
      "cell_type": "code",
      "source": [
        "name= 'Ajay'\n",
        "country = 'Nepal'\n",
        "print(f\"Hey I am {name} and i am from {country}\")"
      ],
      "metadata": {
        "colab": {
          "base_uri": "https://localhost:8080/"
        },
        "id": "FquOyXE_JQQt",
        "outputId": "06492a7f-8ca3-48f0-ae95-0fe93a76f8f9"
      },
      "execution_count": null,
      "outputs": [
        {
          "output_type": "stream",
          "name": "stdout",
          "text": [
            "Hey I am Ajay and i am from Nepal\n"
          ]
        }
      ]
    },
    {
      "cell_type": "code",
      "source": [
        "import this"
      ],
      "metadata": {
        "colab": {
          "base_uri": "https://localhost:8080/"
        },
        "id": "GZ0FrjaXJm-O",
        "outputId": "a1eda54a-e305-45d9-bf1a-192942369cd1"
      },
      "execution_count": null,
      "outputs": [
        {
          "output_type": "stream",
          "name": "stdout",
          "text": [
            "The Zen of Python, by Tim Peters\n",
            "\n",
            "Beautiful is better than ugly.\n",
            "Explicit is better than implicit.\n",
            "Simple is better than complex.\n",
            "Complex is better than complicated.\n",
            "Flat is better than nested.\n",
            "Sparse is better than dense.\n",
            "Readability counts.\n",
            "Special cases aren't special enough to break the rules.\n",
            "Although practicality beats purity.\n",
            "Errors should never pass silently.\n",
            "Unless explicitly silenced.\n",
            "In the face of ambiguity, refuse the temptation to guess.\n",
            "There should be one-- and preferably only one --obvious way to do it.\n",
            "Although that way may not be obvious at first unless you're Dutch.\n",
            "Now is better than never.\n",
            "Although never is often better than *right* now.\n",
            "If the implementation is hard to explain, it's a bad idea.\n",
            "If the implementation is easy to explain, it may be a good idea.\n",
            "Namespaces are one honking great idea -- let's do more of those!\n"
          ]
        }
      ]
    },
    {
      "cell_type": "code",
      "source": [],
      "metadata": {
        "id": "kqtH4lHkMre6"
      },
      "execution_count": null,
      "outputs": []
    }
  ]
}