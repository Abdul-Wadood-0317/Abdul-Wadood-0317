{
  "cells": [
    {
      "cell_type": "markdown",
      "metadata": {
        "id": "view-in-github",
        "colab_type": "text"
      },
      "source": [
        "<a href=\"https://colab.research.google.com/github/Abdul-Wadood-0317/Abdul-Wadood-0317/blob/main/HTS_Assignment_03.ipynb\" target=\"_parent\"><img src=\"https://colab.research.google.com/assets/colab-badge.svg\" alt=\"Open In Colab\"/></a>"
      ]
    },
    {
      "cell_type": "code",
      "execution_count": null,
      "metadata": {
        "colab": {
          "base_uri": "https://localhost:8080/"
        },
        "id": "NzGo5t6wlQrJ",
        "outputId": "826b5160-fffe-4538-e773-3b8f4ac6ad46"
      },
      "outputs": [
        {
          "name": "stdout",
          "output_type": "stream",
          "text": [
            "5 * 1 = 5\n",
            "5 * 2 = 10\n",
            "5 * 3 = 15\n",
            "5 * 4 = 20\n",
            "5 * 5 = 25\n",
            "5 * 6 = 30\n",
            "5 * 7 = 35\n",
            "5 * 8 = 40\n",
            "5 * 9 = 45\n",
            "5 * 10 = 50\n"
          ]
        }
      ],
      "source": [
        "#Abdul Wadood_AI(Assignment)\n",
        "# Write a program that prints the multiplication table of a given number using a for loop.\n",
        "for a in range(1,11):\n",
        "  print(\"5 *\",a,\"=\",5*a)"
      ]
    },
    {
      "cell_type": "markdown",
      "metadata": {
        "id": "4uRzkgiomvWz"
      },
      "source": []
    },
    {
      "cell_type": "code",
      "execution_count": null,
      "metadata": {
        "colab": {
          "base_uri": "https://localhost:8080/"
        },
        "id": "hq544I00ldg1",
        "outputId": "f2f20c56-6085-41eb-abcb-e44abb8ecadd"
      },
      "outputs": [
        {
          "name": "stdout",
          "output_type": "stream",
          "text": [
            "List of Numbers from 1-10  [1, 2, 3, 4, 5, 6, 7, 8, 9, 10]\n",
            "2\n",
            "4\n",
            "6\n",
            "8\n",
            "10\n"
          ]
        }
      ],
      "source": [
        "#Problem 2\n",
        "#Write a program that prints all the even numbers from 1 to 10 using a while loop.\n",
        "print(\"List of Numbers from 1-10 \",a)\n",
        "for i in range (1,11):\n",
        "    while (i%2<=0):\n",
        "       print (i)\n",
        "       i=i+1"
      ]
    },
    {
      "cell_type": "code",
      "execution_count": null,
      "metadata": {
        "colab": {
          "base_uri": "https://localhost:8080/"
        },
        "id": "ppkR-Po1egnG",
        "outputId": "e2fc9fa0-41b0-49bc-8639-8776d925c20a"
      },
      "outputs": [
        {
          "output_type": "stream",
          "name": "stdout",
          "text": [
            "Enter Your Name: Waleed\n",
            "Salam To Hope Of Pakistan, Waleed\n"
          ]
        }
      ],
      "source": [
        "#Problem_3\n",
        "#Write a function called \"greet_user\" that takes a user's name as an argument and\n",
        "#prints a personalized greeting message.\n",
        "def greet_user(name=\"\"):\n",
        "    print (\"Salam To Hope Of Pakistan,\",name)\n",
        "greet_user(input(\"Enter Your Name: \"))"
      ]
    },
    {
      "cell_type": "code",
      "source": [
        "#Problem_4\n",
        "#Write a function called \"is_even\" that takes a number as an argument and returns\n",
        "#True if the number is even, and False otherwise.\n",
        "\n",
        "def is_even_odd(num):\n",
        "  num = int(input(\"Enter the Number:\"))\n",
        "  if num%2==0:\n",
        "    print(\"Number is Even:\",num)\n",
        "    return True\n",
        "  else:\n",
        "    print(\"Number is Odd:\",num)\n",
        "    return False\n",
        "is_even_odd(0)"
      ],
      "metadata": {
        "colab": {
          "base_uri": "https://localhost:8080/"
        },
        "id": "T1vqg2ubRixF",
        "outputId": "8a552e16-182a-4eb3-dfeb-6d6b0c88276a"
      },
      "execution_count": null,
      "outputs": [
        {
          "output_type": "stream",
          "name": "stdout",
          "text": [
            "Enter the Number:57\n",
            "Number is Odd: 57\n"
          ]
        },
        {
          "output_type": "execute_result",
          "data": {
            "text/plain": [
              "False"
            ]
          },
          "metadata": {},
          "execution_count": 1
        }
      ]
    }
  ],
  "metadata": {
    "colab": {
      "provenance": [],
      "authorship_tag": "ABX9TyNHa/CUsPEoJkegzuG9Lwnc",
      "include_colab_link": true
    },
    "kernelspec": {
      "display_name": "Python 3",
      "name": "python3"
    },
    "language_info": {
      "name": "python"
    }
  },
  "nbformat": 4,
  "nbformat_minor": 0
}